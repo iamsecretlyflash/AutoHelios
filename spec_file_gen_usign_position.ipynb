{
 "cells": [
  {
   "cell_type": "code",
   "execution_count": 1,
   "metadata": {},
   "outputs": [],
   "source": [
    "import os"
   ]
  },
  {
   "cell_type": "code",
   "execution_count": 6,
   "metadata": {},
   "outputs": [
    {
     "name": "stdout",
     "output_type": "stream",
     "text": [
      "ifcproduct1161\n",
      "ifcproduct1164\n",
      "ifcproduct1167\n",
      "ifcproduct1169\n",
      "ifcproduct1249\n",
      "ifcproduct1251\n",
      "ifcproduct1289\n",
      "ifcproduct1350\n",
      "ifcproduct1354\n",
      "ifcproduct1376\n",
      "ifcproduct1389\n",
      "ifcproduct1395\n",
      "ifcproduct1434\n",
      "ifcproduct1449\n",
      "ifcproduct1450\n",
      "ifcproduct1452\n",
      "ifcproduct1460\n",
      "ifcproduct1463\n",
      "ifcproduct1467\n",
      "ifcproduct1469\n",
      "ifcproduct1471\n"
     ]
    }
   ],
   "source": [
    "import shutil\n",
    "\n",
    "for i in os.listdir():\n",
    "    if len(os.listdir(i)) == 3:\n",
    "        print(i)"
   ]
  },
  {
   "cell_type": "code",
   "execution_count": 21,
   "metadata": {},
   "outputs": [],
   "source": [
    "s = '''2.81124806404,114.188095093,9.10000038147\n",
    "3.57653570175,131.791595459,9.10000038147\n",
    "-2.90253353119,130.36239624,9.10000038147\n",
    "-9.87999820709,132.599502563,9.10000038147\n",
    "-16.7247543335,130.562576294,9.10000038147\n",
    "-29.7643642426,121.992469788,9.10000038147\n",
    "'''"
   ]
  },
  {
   "cell_type": "code",
   "execution_count": 23,
   "metadata": {},
   "outputs": [
    {
     "name": "stdout",
     "output_type": "stream",
     "text": [
      "<x = 2.81124806404> <y = 114.188095093> <z = 9.10000038147> <active = \"true\"> <pulseFreq_hz=\"100000\"> <scanFreq_hz=\"120\"> <headRotatePerSec_deg=\"10.0\"> <verticalAngleMin_deg=\"-40.0\"> <verticalAngleMax_deg=\"60\"> <headRotateStart_deg=\"0\"> <headRotateStop_deg=\"360\"> <trajectoryTimeInterval_s=\"1.0\">\n",
      "<x = 3.57653570175> <y = 131.791595459> <z = 9.10000038147> <active = \"true\"> <pulseFreq_hz=\"100000\"> <scanFreq_hz=\"120\"> <headRotatePerSec_deg=\"10.0\"> <verticalAngleMin_deg=\"-40.0\"> <verticalAngleMax_deg=\"60\"> <headRotateStart_deg=\"0\"> <headRotateStop_deg=\"360\"> <trajectoryTimeInterval_s=\"1.0\">\n",
      "<x = -2.90253353119> <y = 130.36239624> <z = 9.10000038147> <active = \"true\"> <pulseFreq_hz=\"100000\"> <scanFreq_hz=\"120\"> <headRotatePerSec_deg=\"10.0\"> <verticalAngleMin_deg=\"-40.0\"> <verticalAngleMax_deg=\"60\"> <headRotateStart_deg=\"0\"> <headRotateStop_deg=\"360\"> <trajectoryTimeInterval_s=\"1.0\">\n",
      "<x = -9.87999820709> <y = 132.599502563> <z = 9.10000038147> <active = \"true\"> <pulseFreq_hz=\"100000\"> <scanFreq_hz=\"120\"> <headRotatePerSec_deg=\"10.0\"> <verticalAngleMin_deg=\"-40.0\"> <verticalAngleMax_deg=\"60\"> <headRotateStart_deg=\"0\"> <headRotateStop_deg=\"360\"> <trajectoryTimeInterval_s=\"1.0\">\n",
      "<x = -16.7247543335> <y = 130.562576294> <z = 9.10000038147> <active = \"true\"> <pulseFreq_hz=\"100000\"> <scanFreq_hz=\"120\"> <headRotatePerSec_deg=\"10.0\"> <verticalAngleMin_deg=\"-40.0\"> <verticalAngleMax_deg=\"60\"> <headRotateStart_deg=\"0\"> <headRotateStop_deg=\"360\"> <trajectoryTimeInterval_s=\"1.0\">\n",
      "<x = -29.7643642426> <y = 121.992469788> <z = 9.10000038147> <active = \"true\"> <pulseFreq_hz=\"100000\"> <scanFreq_hz=\"120\"> <headRotatePerSec_deg=\"10.0\"> <verticalAngleMin_deg=\"-40.0\"> <verticalAngleMax_deg=\"60\"> <headRotateStart_deg=\"0\"> <headRotateStop_deg=\"360\"> <trajectoryTimeInterval_s=\"1.0\">\n"
     ]
    }
   ],
   "source": [
    "for lin in s.splitlines():\n",
    "    lin = lin.split(',')\n",
    "    print(f'<x = {lin[0]}> <y = {lin[1]}> <z = {lin[2]}> <active = \"true\"> <pulseFreq_hz=\"100000\"> <scanFreq_hz=\"120\"> <headRotatePerSec_deg=\"10.0\"> <verticalAngleMin_deg=\"-40.0\"> <verticalAngleMax_deg=\"60\"> <headRotateStart_deg=\"0\"> <headRotateStop_deg=\"360\"> <trajectoryTimeInterval_s=\"1.0\">')"
   ]
  },
  {
   "attachments": {},
   "cell_type": "markdown",
   "metadata": {},
   "source": []
  },
  {
   "attachments": {},
   "cell_type": "markdown",
   "metadata": {},
   "source": []
  },
  {
   "cell_type": "code",
   "execution_count": 14,
   "metadata": {},
   "outputs": [
    {
     "data": {
      "text/plain": [
       "['-56.1601142883', '131.896377563', '1.05999994278']"
      ]
     },
     "execution_count": 14,
     "metadata": {},
     "output_type": "execute_result"
    }
   ],
   "source": [
    "s.splitlines()[0].split(',')"
   ]
  },
  {
   "cell_type": "code",
   "execution_count": null,
   "metadata": {},
   "outputs": [],
   "source": []
  }
 ],
 "metadata": {
  "kernelspec": {
   "display_name": "pyhelios_env",
   "language": "python",
   "name": "python3"
  },
  "language_info": {
   "codemirror_mode": {
    "name": "ipython",
    "version": 3
   },
   "file_extension": ".py",
   "mimetype": "text/x-python",
   "name": "python",
   "nbconvert_exporter": "python",
   "pygments_lexer": "ipython3",
   "version": "3.8.16"
  },
  "orig_nbformat": 4
 },
 "nbformat": 4,
 "nbformat_minor": 2
}
