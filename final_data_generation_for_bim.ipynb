{
 "cells": [
  {
   "cell_type": "code",
   "execution_count": 1,
   "metadata": {},
   "outputs": [
    {
     "name": "stdout",
     "output_type": "stream",
     "text": [
      "Jupyter environment detected. Enabling Open3D WebVisualizer.\n",
      "[Open3D INFO] WebRTC GUI backend enabled.\n",
      "[Open3D INFO] WebRTCWindowSystem: HTTP handshake server disabled.\n"
     ]
    }
   ],
   "source": [
    "import os\n",
    "import numpy as np\n",
    "import shutil\n",
    "import open3d as o3d\n",
    "from utils import XMLScene, parse_spec, xml_survey, add_texture_to_point_cloud, merge_output_xyz\n",
    "import subprocess\n",
    "import multiprocessing"
   ]
  },
  {
   "attachments": {},
   "cell_type": "markdown",
   "metadata": {},
   "source": [
    "# How to generate data XMLs using this script\n",
    "\n",
    "1       \n",
    "        a if using .ply files, place them in the helios-plusplus-folder under a folder called bim_ply or provide the path\n",
    "\n",
    "        b make sure that the files for each building are kept in different folders named as bim_0, bim_1...\n",
    "    \n",
    "        c the files will be converted to .obj and placed under data/sceneparts/bim_parts with the same folder name and file name for each of the files\n",
    "\n",
    "2   a if using .obj files place them under data/sceneparts/bim_parts. name the folder for each site as bim_0, bim_1 ...\n",
    "\n",
    "3   the scene will be generated from these folder and placed under data/scene/bim_scenes and named as bim_id_scene.xml\n",
    "\n",
    "4   the survey will be generated from these scenes. Platform position and scanner setting will be asked for each of the scanner\n",
    "    these files would be placed under data/survey/bim_surveys and named as bim_id_survey.xml\n",
    "\n",
    "5   using a bash file run the generated surveys using helios++ terminal command\n",
    "\n",
    "Note:\n",
    "\n",
    "If you want to generate multiple scenes then give the path to the folder than contains a folder for every scene's sceneparts\n",
    "\n",
    "You can also generate a singles scene by placing only one folder inside the main folder, or by providing the path of the folder containing the sceneparts"
   ]
  },
  {
   "cell_type": "code",
   "execution_count": 2,
   "metadata": {},
   "outputs": [
    {
     "name": "stdout",
     "output_type": "stream",
     "text": [
      "Folder name = test_perturb_parts\n",
      "Scene Parts Generated\n",
      "Scenes will be generated and put under [[data/scenes/test_perturb_parts_scenes]]\n"
     ]
    }
   ],
   "source": [
    "path_to_input = (input('Enter the path to the main folder containing sceneparts')) # take the path to the input files\n",
    "print(f'Folder name = {os.path.basename(path_to_input)}')\n",
    "MAIN_FOLDER_NAME = os.path.basename(path_to_input)\n",
    "#checking if there are multiple scenes\n",
    "mult_scenes = 0\n",
    "if len(os.listdir(path_to_input)) == 0:\n",
    "     raise Exception(f'[[{path_to_input}]] is empty')\n",
    "else:\n",
    "     types = set()\n",
    "     for file in os.listdir(path_to_input):\n",
    "          if os.path.isdir(os.path.join(path_to_input,file)):\n",
    "               types.add(1)\n",
    "          else:\n",
    "               types.add(0)\n",
    "          if len(types)>1:\n",
    "               raise Exception(f'[[{path_to_input}]] contains both files and folders')\n",
    "     if list(types)[0] == 1:\n",
    "          mult_scenes = 1\n",
    "\n",
    "# creating a directory in data/sceneparts to save the sceneparts as .obj\n",
    "parts_directory = os.path.join('data/sceneparts',os.path.basename(path_to_input).lower())\n",
    "if os.path.exists(parts_directory):\n",
    "     shutil.rmtree(parts_directory)\n",
    "os.mkdir(parts_directory)\n",
    "mesh_formats = set(['.obj','.ply','.stl','.off','.gltf'])\n",
    "if mult_scenes == 0:\n",
    "     for file in os.listdir(path_to_input):\n",
    "          ext = os.path.splitext(file)\n",
    "          if ext[1] not in mesh_formats:\n",
    "               raise Exception(f'{file} not a valid mesh format')\n",
    "          elif ext[1] != '.obj':\n",
    "               #converting and saving to directory\n",
    "               mesh_file = o3d.io.read_triangle_mesh(os.path.join(path_to_input,file))\n",
    "               o3d.io.write_triangle_mesh(os.path.join(parts_directory,ext[0]+'.obj'),mesh_file)\n",
    "          else:\n",
    "               shutil.copy(os.path.join(path_to_input,file),os.path.join(parts_directory,ext[0]+'.obj'))\n",
    "else:\n",
    "     for folder in os.listdir(path_to_input):\n",
    "          temp_part_dir = os.path.join(parts_directory,folder)\n",
    "          if os.path.exists(temp_part_dir):\n",
    "               shutil.rmtree(temp_part_dir)\n",
    "          os.mkdir(temp_part_dir)\n",
    "          for file in os.listdir(os.path.join(path_to_input,folder)):\n",
    "               ext = os.path.splitext(file)\n",
    "               if ext[1] not in mesh_formats:\n",
    "                    print(os.path.join(path_to_input,folder))\n",
    "                    raise Exception(f'{file} not a valid mesh format')\n",
    "               elif ext[1] != '.obj':\n",
    "                    #converting and saving to directory\n",
    "                    mesh_file = o3d.io.read_triangle_mesh(os.path.join(os.path.join(path_to_input,folder),file))\n",
    "                    o3d.io.write_triangle_mesh(os.path.join(temp_part_dir,ext[0]+'.obj'),mesh_file)\n",
    "               else:\n",
    "                    shutil.copy(os.path.join(os.path.join(path_to_input,folder),file),os.path.join(temp_part_dir,ext[0]+'.obj'))\n",
    "\n",
    "print(\"Scene Parts Generated\")\n",
    "print(f\"Scenes will be generated and put under [[data/scenes/{os.path.basename(path_to_input).lower()}_scenes]]\")\n",
    "if os.path.exists(os.path.join('data/scenes',os.path.basename(path_to_input).lower()+'_scenes')):\n",
    "     shutil.rmtree(os.path.join('data/scenes',os.path.basename(path_to_input).lower()+'_scenes'))\n",
    "os.mkdir(os.path.join('data/scenes',os.path.basename(path_to_input).lower()+'_scenes'))\n",
    "\n",
    "PATH_TO_SCENES = os.path.join('data/scenes',os.path.basename(path_to_input).lower()+'_scenes')\n",
    "\n",
    "if mult_scenes == 0:\n",
    "     scene,links = XMLScene(parts_directory).result\n",
    "     fin_dir = os.path.join(os.path.join('data/scenes',os.path.basename(path_to_input).lower()+'_scenes'),os.path.basename(path_to_input).lower()+'_scene')\n",
    "     if os.path.exists(fin_dir):\n",
    "          shutil.rmtree(fin_dir)\n",
    "     os.mkdir(fin_dir)\n",
    "     with open(os.path.join(fin_dir,'scene.xml'),'w',encoding='UTF-8') as f:\n",
    "          f.write('<?xml version=\"1.0\" encoding=\"UTF-8\"?>\\n'+scene)\n",
    "     with open(os.path.join(fin_dir,'links.csv'),'w') as f:\n",
    "          f.write(str(links))\n",
    "else:\n",
    "     for folder in os.listdir(parts_directory):\n",
    "          temp_parts_directory = os.path.join(parts_directory,folder)\n",
    "          scene,links = XMLScene(temp_parts_directory,'z',1,3,lin_perterb_prob=(0.5,0.2,0), rot_perterb_prob=(0.5,0.5,0.5)).result\n",
    "          fin_dir =  os.path.join(os.path.join('data/scenes',os.path.basename(path_to_input).lower()+'_scenes'),folder.lower()+'_scene')\n",
    "          if os.path.exists(fin_dir):\n",
    "               shutil.rmtree(fin_dir)\n",
    "          os.mkdir(fin_dir)\n",
    "          with open(os.path.join(fin_dir,'scene.xml'),'w',encoding='UTF-8') as f:\n",
    "               f.write('<?xml version=\"1.0\" encoding=\"UTF-8\"?>\\n'+scene)\n",
    "          with open(os.path.join(fin_dir,'links.csv'),'w') as f:\n",
    "               f.write(str(links))\n",
    "\n"
   ]
  },
  {
   "attachments": {},
   "cell_type": "markdown",
   "metadata": {},
   "source": [
    "# For generating Survey XMLs\n",
    "\n",
    "1. Provide with the path to the folder with the configurations for each of the sene\n",
    "2. The configurations should follow the following format:\n",
    "    1. the first line is the id of the scanner. each subsequent line is a new position of the scanner\n",
    "    2. format:\n",
    "\n",
    "    <scanner_id>\n",
    "\n",
    "    <x_coord> <y_coord> <z_coord> <pulseFreq_hz> <verticalAngleMin_deg> <verticalAngleMax_deg> <scanFreq_hz> <headRotatePerSec_deg> <headRotateStart_deg> <headRotateEnd_deg> <trajectoryTimeInterval_s>\n",
    "\n",
    "    3. example:\n",
    "\n",
    "    <scanner_id : riegl_vz400>\n",
    "\n",
    "    <x : 10> <y : 20> <z : 30> <verticalAngleMin_deg : 20> <pulseFreq_hz : 100000>\n",
    "    \n",
    "    4. Configurations specs not provided will be set to default \n",
    "    \n",
    "3. Path to spec files must be the folder containing these spec files. The name of the spec files must match the name of the scenepart folder for a particular scene "
   ]
  },
  {
   "cell_type": "code",
   "execution_count": 7,
   "metadata": {},
   "outputs": [
    {
     "name": "stdout",
     "output_type": "stream",
     "text": [
      "('ifcproduct1092', '')\n",
      "('ifcproduct1095', '')\n",
      "('ifcproduct1102', '')\n",
      "Generating Survey XMLs\n"
     ]
    }
   ],
   "source": [
    "path_to_spec = input()# provide path to .txt file if using in single scene mode. provide path to the folders containing the .txt files is using in multiple scene mode\n",
    "if not os.path.exists(path_to_spec):\n",
    "    raise Exception(f'[[{path_to_spec}]] Does not exist')\n",
    "\n",
    "if mult_scenes != 0:\n",
    "    if len(os.listdir(path_to_spec)) == 0:\n",
    "        raise Exception(f'[[{path_to_spec}]] Is Empty!!')\n",
    "\n",
    "if mult_scenes!=0:\n",
    "    if not len(os.listdir(path_to_spec)) == len(os.listdir(path_to_input)):\n",
    "        raise Exception(f'Mismatch in number of files.')\n",
    "    if len(set([os.path.splitext(i)[1] for i in os.listdir(path_to_spec)])) != 1:\n",
    "        raise Exception('\\nFollowing must be in .txt format\\n'.join([i for i in os.listdir(path_to_spec) if os.path.splitext(i)[1] != '.txt']))\n",
    "\n",
    "elif mult_scenes == 0:\n",
    "    if os.path.splitext(path_to_spec)[1] != '.txt':\n",
    "        raise Exception(f'\\nSingle Scene Mode. Path to the file must be given\\nInvalid spec file extension. Please use .txt')\n",
    "\n",
    "if mult_scenes != 0:\n",
    "    input_files = [os.path.splitext(f)[0] for f in os.listdir(path_to_spec)]\n",
    "    for file in os.listdir(path_to_input):\n",
    "        print(os.path.splitext(file))\n",
    "        if not os.path.splitext(file)[0] in input_files:\n",
    "            raise Exception(f'Could not find a spec file for {file}\\nCheck File names')\n",
    "else:\n",
    "    if os.path.splitext(os.path.basename(path_to_input))[0] != os.path.splitext(os.path.basename(path_to_spec))[0]:\n",
    "        raise Exception(f'File names do not match {os.path.splitext(path_to_input)[0]} != { os.path.splitext(path_to_spec)[0]}')\n",
    "    \n",
    "print(\"Generating Survey XMLs\")\n",
    "\n",
    "if os.path.exists(f'data/surveys/{os.path.splitext(os.path.basename(MAIN_FOLDER_NAME))[0]}_surveys'):\n",
    "        shutil.rmtree(f'data/surveys/{os.path.splitext(os.path.basename(MAIN_FOLDER_NAME))[0]}_surveys')\n",
    "os.mkdir(f'data/surveys/{os.path.splitext(os.path.basename(MAIN_FOLDER_NAME))[0]}_surveys')\n",
    "\n",
    "SURVEYS_TO_RUN = []\n",
    "OUTPUTS = []\n",
    "if mult_scenes == 0 :\n",
    "    scanner_id, parsed_specs = parse_spec(path_to_spec)\n",
    "    survey_name = os.path.splitext(os.path.basename(path_to_spec))[0]+'_survey'\n",
    "    scene_path  = f'data/scenes/{os.path.splitext(os.path.basename(path_to_spec))[0].lower()}_scenes/{os.path.splitext(os.path.basename(path_to_input).lower())[0]}_scene/scene.xml#{os.path.splitext(os.path.basename(path_to_input).lower())[0]}_scene'\n",
    "    survey = xml_survey((scanner_id,parsed_specs),survey_name,scene_path)\n",
    "    with open(f'data/surveys/{os.path.splitext(os.path.basename(MAIN_FOLDER_NAME))[0]}_surveys/{survey_name}.xml','w') as f:\n",
    "        f.write(survey)\n",
    "    SURVEYS_TO_RUN.append(f'data/surveys/{os.path.splitext(os.path.basename(MAIN_FOLDER_NAME))[0]}_surveys/{survey_name}.xml')\n",
    "    OUTPUTS.append(survey_name)\n",
    "else:\n",
    "    \n",
    "    for spec_file in os.listdir(path_to_spec):\n",
    "        parsed_specs  = parse_spec(os.path.join(path_to_spec,spec_file))\n",
    "        survey_name = os.path.splitext(os.path.basename(spec_file))[0]+'_survey'\n",
    "        scene_path = os.path.join(os.path.join(os.path.join('data/scenes',os.path.basename(path_to_input).lower()+'_scenes'),os.path.splitext(spec_file)[0]+'_scene'),f'scene.xml#{os.path.splitext(spec_file)[0]}_scene')\n",
    "        survey = xml_survey(parsed_specs,survey_name,scene_path)\n",
    "        with open(f'data/surveys/{os.path.splitext(os.path.basename(MAIN_FOLDER_NAME))[0]}_surveys/{survey_name}.xml','w') as f:\n",
    "            f.write(survey)\n",
    "        SURVEYS_TO_RUN.append(f'data/surveys/{os.path.splitext(os.path.basename(MAIN_FOLDER_NAME))[0]}_surveys/{survey_name}.xml')\n",
    "        OUTPUTS.append(survey_name)\n"
   ]
  },
  {
   "cell_type": "code",
   "execution_count": 8,
   "metadata": {},
   "outputs": [
    {
     "name": "stdout",
     "output_type": "stream",
     "text": [
      "['data/surveys/test_perturb_parts_surveys/ifcproduct1092_survey.xml', 'data/surveys/test_perturb_parts_surveys/ifcproduct1095_survey.xml', 'data/surveys/test_perturb_parts_surveys/ifcproduct1102_survey.xml']\n",
      "['ifcproduct1092_survey', 'ifcproduct1095_survey', 'ifcproduct1102_survey']\n"
     ]
    }
   ],
   "source": [
    "print(SURVEYS_TO_RUN)\n",
    "print(OUTPUTS)"
   ]
  },
  {
   "cell_type": "code",
   "execution_count": 9,
   "metadata": {},
   "outputs": [
    {
     "name": "stdout",
     "output_type": "stream",
     "text": [
      "Following surveys will be generated:\n",
      "data/surveys/test_perturb_parts_surveys/ifcproduct1092_survey.xml\n",
      "data/surveys/test_perturb_parts_surveys/ifcproduct1095_survey.xml\n",
      "data/surveys/test_perturb_parts_surveys/ifcproduct1102_survey.xml\n",
      "Generating : data/surveys/test_perturb_parts_surveys/ifcproduct1092_survey.xml\n",
      "0\n",
      "Generating : data/surveys/test_perturb_parts_surveys/ifcproduct1095_survey.xml\n",
      "0\n",
      "Generating : data/surveys/test_perturb_parts_surveys/ifcproduct1102_survey.xml\n",
      "0\n"
     ]
    }
   ],
   "source": [
    "gen_surveys = int(input(\"Do you want to generate surveys (1 for yes): \"))\n",
    "use_multi = int(input(\"Use multiprocessing (1 for yes): \"))\n",
    "\n",
    "if gen_surveys == 1:\n",
    "    m = '\\n'.join(SURVEYS_TO_RUN)\n",
    "    print(f\"Following surveys will be generated:\\n{m}\")\n",
    "    if use_multi != 1 :\n",
    "        for survey in SURVEYS_TO_RUN:\n",
    "            print(f\"Generating : {survey}\")\n",
    "            process = subprocess.call('run\\helios '+survey)\n",
    "            print(process)\n"
   ]
  },
  {
   "cell_type": "code",
   "execution_count": 2,
   "metadata": {},
   "outputs": [],
   "source": [
    "SURVEYS_TO_RUN = ['data/surveys/test_perturb_parts_surveys/ifcproduct1092_survey.xml',\n",
    " 'data/surveys/test_perturb_parts_surveys/ifcproduct1095_survey.xml',\n",
    " 'data/surveys/test_perturb_parts_surveys/ifcproduct1102_survey.xml']"
   ]
  },
  {
   "cell_type": "code",
   "execution_count": 3,
   "metadata": {},
   "outputs": [],
   "source": [
    "OUTPUTS = ['ifcproduct1092_survey', 'ifcproduct1095_survey', 'ifcproduct1102_survey']"
   ]
  },
  {
   "cell_type": "code",
   "execution_count": 4,
   "metadata": {},
   "outputs": [
    {
     "name": "stdout",
     "output_type": "stream",
     "text": [
      "0 : data/surveys/test_perturb_parts_surveys/ifcproduct1092_survey.xml\n",
      "1 : data/surveys/test_perturb_parts_surveys/ifcproduct1095_survey.xml\n",
      "2 : data/surveys/test_perturb_parts_surveys/ifcproduct1102_survey.xml\n",
      "output/ifcproduct1095_survey\\2023-07-07_18-10-46\n"
     ]
    },
    {
     "name": "stderr",
     "output_type": "stream",
     "text": [
      "c:\\Users\\V Seth\\Desktop\\data_gen\\helios-plusplus-win\\utils.py:170: RuntimeWarning: invalid value encountered in divide\n",
      "  cross = cross/np.linalg.norm(cross)\n"
     ]
    }
   ],
   "source": [
    "add_texture = int(input(\"Enter 1 to add gaussian noise based texture to all surveys\\nEnter 2 to specify surveys out of the following\"))\n",
    "surveys = []\n",
    "if add_texture == 2:\n",
    "    for i,j  in enumerate(SURVEYS_TO_RUN):\n",
    "        print(f\"{i} : {j}\")\n",
    "    surveys = list(map(int,input('Enter serial numbers in  a line seperated by a space').split()))\n",
    "    for i in surveys:\n",
    "        if i >= len(SURVEYS_TO_RUN):\n",
    "            print(f\"Serial id : {i} not found\")\n",
    "            break\n",
    "textured = []\n",
    "logs = []\n",
    "for i in range(len(SURVEYS_TO_RUN)):\n",
    "    if add_texture == 1 or i in surveys:\n",
    "        #find the output file\n",
    "        #assuming to be the latest survey\n",
    "        time_path= (-1,'lol')\n",
    "        for survey_time in os.listdir('output/'+OUTPUTS[i]):\n",
    "            time_path = max(time_path,(os.path.getctime(os.path.join('output/'+OUTPUTS[i],survey_time)),os.path.join('output/'+OUTPUTS[i],survey_time)))\n",
    "        print(time_path[1])\n",
    "        merged_cloud = merge_output_xyz(time_path[1])\n",
    "        texture, log = add_texture_to_point_cloud(merged_cloud)\n",
    "        textured.append(texture)\n",
    "        logs.append(log)"
   ]
  },
  {
   "cell_type": "code",
   "execution_count": 6,
   "metadata": {},
   "outputs": [],
   "source": [
    "merged_cloud = merge_output_xyz(time_path[1])"
   ]
  },
  {
   "cell_type": "code",
   "execution_count": 8,
   "metadata": {},
   "outputs": [],
   "source": [
    "import numpy as np\n",
    "tosave = textured[0].tolist()\n",
    "s = []\n",
    "for i in tosave:\n",
    "    temp = (str(i)[1:-1]+'\\n')\n",
    "    s.append(temp)"
   ]
  },
  {
   "cell_type": "code",
   "execution_count": 9,
   "metadata": {},
   "outputs": [],
   "source": [
    "with open('merged1102.xyz','w') as f:\n",
    "    f.writelines(''.join(s))"
   ]
  }
 ],
 "metadata": {
  "kernelspec": {
   "display_name": "Python 3 (ipykernel)",
   "language": "python",
   "name": "python3"
  },
  "language_info": {
   "codemirror_mode": {
    "name": "ipython",
    "version": 3
   },
   "file_extension": ".py",
   "mimetype": "text/x-python",
   "name": "python",
   "nbconvert_exporter": "python",
   "pygments_lexer": "ipython3",
   "version": "3.8.16"
  }
 },
 "nbformat": 4,
 "nbformat_minor": 2
}
